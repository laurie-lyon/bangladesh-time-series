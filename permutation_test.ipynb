{
 "cells": [
  {
   "cell_type": "code",
   "execution_count": 2,
   "metadata": {},
   "outputs": [],
   "source": [
    "from biom import load_table\n",
    "import pandas as pd\n",
    "import numpy as np\n",
    "from sklearn import linear_model\n",
    "from scipy import stats\n",
    "from itertools import product\n",
    "import datetime\n",
    "import os\n",
    "import matplotlib.pyplot as plt"
   ]
  },
  {
   "cell_type": "code",
   "execution_count": null,
   "metadata": {},
   "outputs": [],
   "source": [
    "class MiBiTimeSeries:\n",
    "    # Class to handle time series data\n",
    "    # Using numpy matrices for biom table instead of slow pandas dataframes\n",
    "\n",
    "    def __init__(self, meta: pd.DataFrame, biom: pd.DataFrame, rared: int):\n",
    "        # Initializer / Instance Attributes\n",
    "        self.meta = meta  # Meta data (pandas DataFrame)\n",
    "        self.biom = np.array(biom)  # Biological Observation Matrix (numpy array for faster computations)\n",
    "        self.rared = rared  # Rarefaction depth\n",
    "        self.all_corr = {}  # Placeholder for correlation results\n",
    "        self.all_corr_thresh = {}  # Placeholder for thresholded correlation results\n",
    "        self.otu_ids = \n",
    "\n",
    "    def _relative_abundance(self, node: int) -> np.array:\n",
    "        \"\"\"Calculate relative abundance of a given node.\"\"\"\n",
    "        return (self.biom[node] + 1e-6) / self.rared\n",
    "    def lag_corr(self, i: int, j: int) -> tuple:\n",
    "        # Function to perform a lagged correlation between two nodes (delta_i and j)\n",
    "        # Compute relative abundance of node j\n",
    "        j_relabund = self._relative_abundance(j)\n",
    "        # Log-transform and remove first two elements from the series to eliminate effect of initial conditions\n",
    "        j_term = np.log10(j_relabund)[2:]\n",
    "\n",
    "        # Compute relative abundance of node i\n",
    "        i_relabund = self._relative_abundance(i)\n",
    "        # Compute change in log-transformed relative abundance of node i\n",
    "        delta_i_term = np.log10(i_relabund)[2:] - np.log10(np.roll(i_relabund, 1))[2:]\n",
    "\n",
    "        # Perform a Spearman rank correlation between j_term and delta_i_term\n",
    "        mycorr = stats.spearmanr(j_term, delta_i_term)\n",
    "        \n",
    "        # Return the node pair, correlation coefficient, and p-value\n",
    "        return i, j, *mycorr\n",
    "    \n",
    "    def plot_lag(self, nodes: tuple):\n",
    "        # Function to plot a scatterplot of lagged relative abundance between two nodes (nodes[0] and nodes[1])\n",
    "        i, j = nodes  # First node and second node\n",
    "\n",
    "        # Compute log-transformed relative abundance of node j and remove first two elements\n",
    "        j_term = np.log10(self._relative_abundance(j))[2:]\n",
    "\n",
    "        # Compute change in log-transformed relative abundance of node i\n",
    "        delta_i_term = np.log10(self._relative_abundance(i)[2:]) - np.log10(np.roll(self._relative_abundance(i), 1))[2:]\n",
    "        # Plot a scatterplot of j_term vs delta_i_term\n",
    "        plt.scatter(j_term, delta_i_term)\n",
    "        \n",
    "    def plot_abund(self, node: int):\n",
    "        # Function to plot the abundance of a single node over time\n",
    "        plt.plot(self.biom[node])  # Plot the abundance of the specified node\n",
    "        \n",
    "    def shuffle_biom(self):\n",
    "        # Function to shuffle the columns of the biom DataFrame (presumably for permutation testing)\n",
    "        np.random.shuffle(self.biom.T)  # Shuffle columns in place using numpy's function\n"
   ]
  },
  {
   "cell_type": "code",
   "execution_count": null,
   "metadata": {},
   "outputs": [],
   "source": [
    "def meta_biom_filter(meta: pd.DataFrame, biom: pd.DataFrame, anon_name: str, filter_num=0):\n",
    "    meta = meta.sort_index()\n",
    "    \n",
    "    meta = meta.loc[meta.ANONYMIZED_NAME == anon_name]\n",
    "    meta = meta.loc[set(meta.index) & set(biom_df.columns)]\n",
    "    biom_df = biom[list(set(meta.index) & set(biom_df.columns))]\n",
    "    biom_df = biom_df.sort_index()\n",
    "    biom_df = biom_df.loc[(biom_df.sum(axis=1) > filter_num)]\n",
    "    \n",
    "    avg_day = pd.DataFrame(index=biom_df.index)\n",
    "\n",
    "    for i in set(meta.epoch_time):\n",
    "        samples_day = meta.index[meta.epoch_time == i]\n",
    "        avg_day[i] = biom_df.transpose().loc[samples_day].mean()\n",
    "    \n",
    "    #avg_day = avg_day.reindex_axis(sorted(avg_day.columns), axis=1)\n",
    "    \n",
    "    return(meta, avg_day)\n"
   ]
  },
  {
   "cell_type": "code",
   "execution_count": null,
   "metadata": {},
   "outputs": [],
   "source": [
    "biom = load_table(\"./qiime_outputs/dada2_otu_table_w_tax_no_pynast_failures_rare7500.biom\")\n",
    "biom = biom.to_dataframe().transpose()\n",
    "meta = pd.read_csv(\"./qiime_outputs/full_meta_w_times.csv\")"
   ]
  },
  {
   "cell_type": "code",
   "execution_count": null,
   "metadata": {},
   "outputs": [],
   "source": [
    "m01_meta = meta.loc[meta[\"ANONYMIZED_NAME\"] == 'M01']\n",
    "m01_meta = m01_meta.sort_values([\"Time\"])\n",
    "m01_meta.index = m01_meta[\"#SampleID\"]\n",
    "m01_biom = biom.loc[m01_meta[\"#SampleID\"]]\n"
   ]
  },
  {
   "cell_type": "code",
   "execution_count": null,
   "metadata": {},
   "outputs": [],
   "source": [
    "df = m01_meta[[\"Time\"]].merge(m01_biom, left_index=True, right_index=True)\n",
    "grouped = df.groupby([\"Time\"]).sample()"
   ]
  },
  {
   "cell_type": "code",
   "execution_count": null,
   "metadata": {},
   "outputs": [],
   "source": [
    "(grouped != 0).mean().sort_values().hist(bins=40)"
   ]
  },
  {
   "cell_type": "code",
   "execution_count": null,
   "metadata": {},
   "outputs": [],
   "source": []
  }
 ],
 "metadata": {
  "kernelspec": {
   "display_name": "Python 3",
   "language": "python",
   "name": "python3"
  },
  "language_info": {
   "codemirror_mode": {
    "name": "ipython",
    "version": 3
   },
   "file_extension": ".py",
   "mimetype": "text/x-python",
   "name": "python",
   "nbconvert_exporter": "python",
   "pygments_lexer": "ipython3",
   "version": "3.11.5"
  }
 },
 "nbformat": 4,
 "nbformat_minor": 2
}
